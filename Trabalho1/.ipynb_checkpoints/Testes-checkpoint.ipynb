{
 "cells": [
  {
   "cell_type": "markdown",
   "metadata": {},
   "source": [
    "# Trabalho 1° de Mineração de Dados\n",
    "\n",
    "## Movies on Netflix, Prime Video, Hulu and Disney+\n",
    "### A collection of movies found on these streaming platforms\n"
   ]
  },
  {
   "cell_type": "markdown",
   "metadata": {},
   "source": [
    "### Alunos\n",
    "\n",
    "**Nome: Natanael Moreira de lemos - Matricula: 398447**  \n",
    "**Nome: Ramiro Campos de Castro - Matricula: 400723**"
   ]
  },
  {
   "cell_type": "markdown",
   "metadata": {},
   "source": [
    "## Perguntas Sobre o dataset\n",
    "\n",
    "* Média de idade por cada plataforma ou por filme\n",
    "* Média Imdb por país ou plataforma\n",
    "* Média do Rotten Tomatoes\n",
    "* Classificação de idade dos filmes em cada plataforma\n",
    "* Diretor com mais filmes em cada plataforma\n",
    "* Linguagem dos filmes\n",
    "* Filmes com maior duração ou menor duração\n",
    "* Qual plataforma tem mais séries ou filmes\n",
    "* Gênero de filme mais popular\n",
    "* Qual pais tem mais locação de filmes\n",
    "* Qual plataforma possui mais disponibilidade de filmes \n",
    "* Ou Qual plataforma tem mais filmes \n",
    "\n",
    "\n",
    "\n"
   ]
  },
  {
   "cell_type": "code",
   "execution_count": null,
   "metadata": {},
   "outputs": [],
   "source": [
    "import numpy as np\n",
    "import pandas as pd\n",
    "import seaborn as sns\n",
    "import ast"
   ]
  },
  {
   "cell_type": "code",
   "execution_count": null,
   "metadata": {},
   "outputs": [],
   "source": [
    "import matplotlib.pyplot as plt\n",
    "%matplotlib inline"
   ]
  },
  {
   "cell_type": "code",
   "execution_count": null,
   "metadata": {},
   "outputs": [],
   "source": []
  },
  {
   "cell_type": "code",
   "execution_count": null,
   "metadata": {},
   "outputs": [],
   "source": [
    "data = pd.read_csv(\"MoviesOnStreamingPlatforms_updated.csv\")\n",
    "dataS = pd.read_csv(\"tv_shows.csv\")"
   ]
  },
  {
   "cell_type": "code",
   "execution_count": null,
   "metadata": {},
   "outputs": [],
   "source": [
    "print(type(data.iloc[0,14]))"
   ]
  },
  {
   "cell_type": "code",
   "execution_count": null,
   "metadata": {},
   "outputs": [],
   "source": [
    "print(type(list(data.iloc[0,14].split(\",\"))))"
   ]
  },
  {
   "cell_type": "code",
   "execution_count": null,
   "metadata": {},
   "outputs": [],
   "source": [
    "print(list(data.iloc[0,14].split(\",\")))"
   ]
  },
  {
   "cell_type": "code",
   "execution_count": null,
   "metadata": {},
   "outputs": [],
   "source": [
    "for i in range(len(data['ID'])):\n",
    "    data.iloc[i,14] = list(data.iloc[i,14].split(\",\"))\n",
    "                  \n"
   ]
  },
  {
   "cell_type": "code",
   "execution_count": null,
   "metadata": {},
   "outputs": [],
   "source": [
    "data.iloc[0,14] = list(data.iloc[0,14].split(\",\"))"
   ]
  },
  {
   "cell_type": "code",
   "execution_count": 33,
   "metadata": {},
   "outputs": [
    {
     "name": "stdout",
     "output_type": "stream",
     "text": [
      "<class 'pandas.core.series.Series'>\n"
     ]
    }
   ],
   "source": [
    "print(type(data[\"Country\"]))"
   ]
  },
  {
   "cell_type": "code",
   "execution_count": 39,
   "metadata": {},
   "outputs": [
    {
     "data": {
      "text/plain": [
       "array(['a', 'a', 'b', 'c'], dtype=object)"
      ]
     },
     "execution_count": 39,
     "metadata": {},
     "output_type": "execute_result"
    }
   ],
   "source": [
    "pd.Series(list('aabc')).values"
   ]
  },
  {
   "cell_type": "code",
   "execution_count": 36,
   "metadata": {},
   "outputs": [
    {
     "data": {
      "text/plain": [
       "numpy.ndarray"
      ]
     },
     "execution_count": 36,
     "metadata": {},
     "output_type": "execute_result"
    }
   ],
   "source": [
    "data[\"Country\"].values"
   ]
  },
  {
   "cell_type": "code",
   "execution_count": 65,
   "metadata": {},
   "outputs": [
    {
     "data": {
      "text/plain": [
       "0        United States,United Kingdom\n",
       "1                       United States\n",
       "2                       United States\n",
       "3                       United States\n",
       "4            Italy,Spain,West Germany\n",
       "                     ...             \n",
       "16739                   United States\n",
       "16740                   United States\n",
       "16741                   United States\n",
       "16742                   United States\n",
       "16743                   United States\n",
       "Name: Country, Length: 16744, dtype: category\n",
       "Categories (1303, object): [Afghanistan,France, Afghanistan,United States, Albania,Austria,France, Albania,Greece,France, ..., West Germany,United States, Yugoslavia, Yugoslavia,United States, Zambia,Sweden]"
      ]
     },
     "execution_count": 65,
     "metadata": {},
     "output_type": "execute_result"
    }
   ],
   "source": [
    "data[\"Country\"].astype('category')"
   ]
  },
  {
   "cell_type": "code",
   "execution_count": 64,
   "metadata": {},
   "outputs": [
    {
     "data": {
      "text/plain": [
       "'United States,United Kingdom'"
      ]
     },
     "execution_count": 64,
     "metadata": {},
     "output_type": "execute_result"
    }
   ],
   "source": [
    "data[\"Country\"].astype('category')[0]"
   ]
  },
  {
   "cell_type": "code",
   "execution_count": 63,
   "metadata": {},
   "outputs": [
    {
     "data": {
      "text/plain": [
       "['United States', 'United Kingdom']"
      ]
     },
     "execution_count": 63,
     "metadata": {},
     "output_type": "execute_result"
    }
   ],
   "source": [
    "data[\"Country\"].astype('category')[0].split(\",\")"
   ]
  },
  {
   "cell_type": "code",
   "execution_count": 42,
   "metadata": {},
   "outputs": [],
   "source": [
    "teste = data[\"Country\"].astype('category').values"
   ]
  },
  {
   "cell_type": "code",
   "execution_count": 54,
   "metadata": {},
   "outputs": [
    {
     "name": "stdout",
     "output_type": "stream",
     "text": [
      "<class 'pandas.core.arrays.categorical.Categorical'>\n"
     ]
    }
   ],
   "source": [
    "print(type(teste))"
   ]
  },
  {
   "cell_type": "code",
   "execution_count": 45,
   "metadata": {},
   "outputs": [
    {
     "data": {
      "text/plain": [
       "[United States,United Kingdom, United States, United States, United States, Italy,Spain,West Germany, ..., United States, United States, United States, United States, United States]\n",
       "Length: 16744\n",
       "Categories (1303, object): [Afghanistan,France, Afghanistan,United States, Albania,Austria,France, Albania,Greece,France, ..., West Germany,United States, Yugoslavia, Yugoslavia,United States, Zambia,Sweden]"
      ]
     },
     "execution_count": 45,
     "metadata": {},
     "output_type": "execute_result"
    }
   ],
   "source": [
    "teste"
   ]
  },
  {
   "cell_type": "code",
   "execution_count": 52,
   "metadata": {},
   "outputs": [
    {
     "name": "stdout",
     "output_type": "stream",
     "text": [
      "United States,United Kingdom\n"
     ]
    }
   ],
   "source": [
    "print(teste[0])"
   ]
  },
  {
   "cell_type": "code",
   "execution_count": 24,
   "metadata": {},
   "outputs": [
    {
     "data": {
      "text/html": [
       "<div>\n",
       "<style scoped>\n",
       "    .dataframe tbody tr th:only-of-type {\n",
       "        vertical-align: middle;\n",
       "    }\n",
       "\n",
       "    .dataframe tbody tr th {\n",
       "        vertical-align: top;\n",
       "    }\n",
       "\n",
       "    .dataframe thead th {\n",
       "        text-align: right;\n",
       "    }\n",
       "</style>\n",
       "<table border=\"1\" class=\"dataframe\">\n",
       "  <thead>\n",
       "    <tr style=\"text-align: right;\">\n",
       "      <th></th>\n",
       "      <th>Unnamed: 0</th>\n",
       "      <th>ID</th>\n",
       "      <th>Title</th>\n",
       "      <th>Year</th>\n",
       "      <th>Age</th>\n",
       "      <th>IMDb</th>\n",
       "      <th>Rotten Tomatoes</th>\n",
       "      <th>Netflix</th>\n",
       "      <th>Hulu</th>\n",
       "      <th>Prime Video</th>\n",
       "      <th>Disney+</th>\n",
       "      <th>Type</th>\n",
       "      <th>Directors</th>\n",
       "      <th>Genres</th>\n",
       "      <th>Country</th>\n",
       "      <th>Language</th>\n",
       "      <th>Runtime</th>\n",
       "    </tr>\n",
       "  </thead>\n",
       "  <tbody>\n",
       "    <tr>\n",
       "      <th>0</th>\n",
       "      <td>0</td>\n",
       "      <td>1</td>\n",
       "      <td>Inception</td>\n",
       "      <td>2010</td>\n",
       "      <td>13+</td>\n",
       "      <td>8.8</td>\n",
       "      <td>87%</td>\n",
       "      <td>1</td>\n",
       "      <td>0</td>\n",
       "      <td>0</td>\n",
       "      <td>0</td>\n",
       "      <td>0</td>\n",
       "      <td>Christopher Nolan</td>\n",
       "      <td>Action,Adventure,Sci-Fi,Thriller</td>\n",
       "      <td>United States,United Kingdom</td>\n",
       "      <td>English,Japanese,French</td>\n",
       "      <td>148.0</td>\n",
       "    </tr>\n",
       "    <tr>\n",
       "      <th>1</th>\n",
       "      <td>1</td>\n",
       "      <td>2</td>\n",
       "      <td>The Matrix</td>\n",
       "      <td>1999</td>\n",
       "      <td>18+</td>\n",
       "      <td>8.7</td>\n",
       "      <td>87%</td>\n",
       "      <td>1</td>\n",
       "      <td>0</td>\n",
       "      <td>0</td>\n",
       "      <td>0</td>\n",
       "      <td>0</td>\n",
       "      <td>Lana Wachowski,Lilly Wachowski</td>\n",
       "      <td>Action,Sci-Fi</td>\n",
       "      <td>United States</td>\n",
       "      <td>English</td>\n",
       "      <td>136.0</td>\n",
       "    </tr>\n",
       "    <tr>\n",
       "      <th>2</th>\n",
       "      <td>2</td>\n",
       "      <td>3</td>\n",
       "      <td>Avengers: Infinity War</td>\n",
       "      <td>2018</td>\n",
       "      <td>13+</td>\n",
       "      <td>8.5</td>\n",
       "      <td>84%</td>\n",
       "      <td>1</td>\n",
       "      <td>0</td>\n",
       "      <td>0</td>\n",
       "      <td>0</td>\n",
       "      <td>0</td>\n",
       "      <td>Anthony Russo,Joe Russo</td>\n",
       "      <td>Action,Adventure,Sci-Fi</td>\n",
       "      <td>United States</td>\n",
       "      <td>English</td>\n",
       "      <td>149.0</td>\n",
       "    </tr>\n",
       "    <tr>\n",
       "      <th>3</th>\n",
       "      <td>3</td>\n",
       "      <td>4</td>\n",
       "      <td>Back to the Future</td>\n",
       "      <td>1985</td>\n",
       "      <td>7+</td>\n",
       "      <td>8.5</td>\n",
       "      <td>96%</td>\n",
       "      <td>1</td>\n",
       "      <td>0</td>\n",
       "      <td>0</td>\n",
       "      <td>0</td>\n",
       "      <td>0</td>\n",
       "      <td>Robert Zemeckis</td>\n",
       "      <td>Adventure,Comedy,Sci-Fi</td>\n",
       "      <td>United States</td>\n",
       "      <td>English</td>\n",
       "      <td>116.0</td>\n",
       "    </tr>\n",
       "    <tr>\n",
       "      <th>4</th>\n",
       "      <td>4</td>\n",
       "      <td>5</td>\n",
       "      <td>The Good, the Bad and the Ugly</td>\n",
       "      <td>1966</td>\n",
       "      <td>18+</td>\n",
       "      <td>8.8</td>\n",
       "      <td>97%</td>\n",
       "      <td>1</td>\n",
       "      <td>0</td>\n",
       "      <td>1</td>\n",
       "      <td>0</td>\n",
       "      <td>0</td>\n",
       "      <td>Sergio Leone</td>\n",
       "      <td>Western</td>\n",
       "      <td>Italy,Spain,West Germany</td>\n",
       "      <td>Italian</td>\n",
       "      <td>161.0</td>\n",
       "    </tr>\n",
       "  </tbody>\n",
       "</table>\n",
       "</div>"
      ],
      "text/plain": [
       "   Unnamed: 0  ID                           Title  Year  Age  IMDb  \\\n",
       "0           0   1                       Inception  2010  13+   8.8   \n",
       "1           1   2                      The Matrix  1999  18+   8.7   \n",
       "2           2   3          Avengers: Infinity War  2018  13+   8.5   \n",
       "3           3   4              Back to the Future  1985   7+   8.5   \n",
       "4           4   5  The Good, the Bad and the Ugly  1966  18+   8.8   \n",
       "\n",
       "  Rotten Tomatoes  Netflix  Hulu  Prime Video  Disney+  Type  \\\n",
       "0             87%        1     0            0        0     0   \n",
       "1             87%        1     0            0        0     0   \n",
       "2             84%        1     0            0        0     0   \n",
       "3             96%        1     0            0        0     0   \n",
       "4             97%        1     0            1        0     0   \n",
       "\n",
       "                        Directors                            Genres  \\\n",
       "0               Christopher Nolan  Action,Adventure,Sci-Fi,Thriller   \n",
       "1  Lana Wachowski,Lilly Wachowski                     Action,Sci-Fi   \n",
       "2         Anthony Russo,Joe Russo           Action,Adventure,Sci-Fi   \n",
       "3                 Robert Zemeckis           Adventure,Comedy,Sci-Fi   \n",
       "4                    Sergio Leone                           Western   \n",
       "\n",
       "                        Country                 Language  Runtime  \n",
       "0  United States,United Kingdom  English,Japanese,French    148.0  \n",
       "1                 United States                  English    136.0  \n",
       "2                 United States                  English    149.0  \n",
       "3                 United States                  English    116.0  \n",
       "4      Italy,Spain,West Germany                  Italian    161.0  "
      ]
     },
     "execution_count": 24,
     "metadata": {},
     "output_type": "execute_result"
    }
   ],
   "source": [
    "data.head(5)"
   ]
  },
  {
   "cell_type": "code",
   "execution_count": null,
   "metadata": {},
   "outputs": [],
   "source": [
    "dataS.head(5)"
   ]
  },
  {
   "cell_type": "code",
   "execution_count": null,
   "metadata": {},
   "outputs": [],
   "source": [
    "data.describe()"
   ]
  },
  {
   "cell_type": "code",
   "execution_count": null,
   "metadata": {},
   "outputs": [],
   "source": [
    "#Valores nulos\n",
    "\n",
    "data.isnull().sum()"
   ]
  },
  {
   "cell_type": "code",
   "execution_count": null,
   "metadata": {},
   "outputs": [],
   "source": [
    "data.info()"
   ]
  },
  {
   "cell_type": "markdown",
   "metadata": {},
   "source": []
  },
  {
   "cell_type": "code",
   "execution_count": null,
   "metadata": {},
   "outputs": [],
   "source": [
    "## Limpeza na coluna de idade\n",
    "\n",
    "for i in range(len(data['Age'])):\n",
    "    aux = data.loc[i,'Age']\n",
    "    if aux != np.nan or aux != 'all' or aux != '':\n",
    "        aux = str(aux)\n",
    "        if '+' in aux:\n",
    "            data.loc[i,'Age'] = aux.strip().split('+')[0]\n",
    "            "
   ]
  },
  {
   "cell_type": "code",
   "execution_count": null,
   "metadata": {},
   "outputs": [],
   "source": [
    "cleanTomatoes(data)"
   ]
  },
  {
   "cell_type": "code",
   "execution_count": null,
   "metadata": {},
   "outputs": [],
   "source": [
    "## Limpeza na coluna do Rotten Tomatoes\n",
    "\n",
    "for i in range(len(data['Rotten Tomatoes'])):\n",
    "    aux = data.loc[i,'Rotten Tomatoes']\n",
    "    if aux != np.nan or aux != '':\n",
    "        aux = str(aux)\n",
    "        if '%' in aux:\n",
    "            data.loc[i,'Rotten Tomatoes'] = aux.strip().split('%')[0]\n",
    "\n"
   ]
  },
  {
   "cell_type": "code",
   "execution_count": null,
   "metadata": {},
   "outputs": [],
   "source": [
    "data['Rotten Tomatoes'] = data['Rotten Tomatoes'].apply(lambda x: float(x)/10)"
   ]
  },
  {
   "cell_type": "markdown",
   "metadata": {},
   "source": [
    "### Contagem de idade dos Títulos "
   ]
  },
  {
   "cell_type": "code",
   "execution_count": null,
   "metadata": {},
   "outputs": [],
   "source": [
    "data_age = data[(data['Age'] != 'all') | (data['Age'] != np.nan)]"
   ]
  },
  {
   "cell_type": "code",
   "execution_count": null,
   "metadata": {},
   "outputs": [],
   "source": [
    "order = ['7','13','16','18','all']"
   ]
  },
  {
   "cell_type": "code",
   "execution_count": null,
   "metadata": {},
   "outputs": [],
   "source": [
    "sns.catplot(x=\"Age\", kind=\"count\",color=\"#4682B4\", data=data_age,order=order)\n"
   ]
  },
  {
   "cell_type": "code",
   "execution_count": null,
   "metadata": {},
   "outputs": [],
   "source": []
  },
  {
   "cell_type": "markdown",
   "metadata": {},
   "source": [
    "### Titulos com maiores notas no IMDb e no Rotten Tomatoes"
   ]
  },
  {
   "cell_type": "code",
   "execution_count": null,
   "metadata": {},
   "outputs": [],
   "source": [
    "data[data['IMDb'] == data['IMDb'].max()][['Title','Year','Directors','Genres']].head(5)"
   ]
  },
  {
   "cell_type": "code",
   "execution_count": null,
   "metadata": {},
   "outputs": [],
   "source": [
    "data[data['Rotten Tomatoes'] == data['Rotten Tomatoes'].max()][['Title','Year','Directors','Genres']].head(5)"
   ]
  },
  {
   "cell_type": "code",
   "execution_count": null,
   "metadata": {},
   "outputs": [],
   "source": []
  },
  {
   "cell_type": "markdown",
   "metadata": {},
   "source": [
    "### Idade dos Títulos por Plataforma"
   ]
  },
  {
   "cell_type": "code",
   "execution_count": null,
   "metadata": {},
   "outputs": [],
   "source": [
    "# Separação das Plataformas\n",
    "\n",
    "data_prime = data[data['Prime Video'] == 1].iloc[:,[1,2,3,4,5,6,7,11,12,13,14,15,16]]\n",
    "data_netflix = data[data['Netflix'] == 1].iloc[:,[1,2,3,4,5,6,8,11,12,13,14,15,16]]\n",
    "data_hulu = data[data['Hulu'] == 1].iloc[:,[1,2,3,4,5,6,7,9,12,13,14,15,16]]\n",
    "data_disney = data[data['Disney+'] == 1].iloc[:,[1,2,3,4,5,6,10,11,12,13,14,15,16]]"
   ]
  },
  {
   "cell_type": "code",
   "execution_count": null,
   "metadata": {},
   "outputs": [],
   "source": [
    "fig,axs = plt.subplots(nrows = 2,ncols = 2,figsize=(12,7),constrained_layout=True)\n",
    "\n",
    "sns.countplot(x='Age',data=data_prime,ax=axs[0][0],order=order)\n",
    "axs[0][0].set_title('Prime Video')\n",
    "axs[0][0].set_ylim(0,3000)\n",
    "\n",
    "sns.countplot(x='Age',data=data_hulu,ax=axs[0][1],order=order)\n",
    "axs[0][1].set_title('Hulu')\n",
    "axs[0][1].set_ylim(0,3000)\n",
    "\n",
    "sns.countplot(x='Age',data=data_netflix,ax=axs[1][0],order=order)\n",
    "axs[1][0].set_title('Netflix')\n",
    "axs[1][0].set_ylim(0,3000)\n",
    "\n",
    "sns.countplot(x='Age',data=data_disney,ax=axs[1][1],order=order)\n",
    "axs[1][1].set_title('Disney')\n",
    "axs[1][1].set_ylim(0,2700)\n",
    "\n"
   ]
  },
  {
   "cell_type": "markdown",
   "metadata": {},
   "source": [
    " "
   ]
  },
  {
   "cell_type": "markdown",
   "metadata": {},
   "source": [
    "### Porcentagem de Filmes em cada plataforma"
   ]
  },
  {
   "cell_type": "code",
   "execution_count": null,
   "metadata": {},
   "outputs": [],
   "source": [
    "labels = 'Netflix','PrimeVideo', 'Hulu','Disney+'\n",
    "values = {'Netflix':0,'Prime Video':0,'Hulu':0,'Disney+':0}\n",
    "\n",
    "values['Netflix'] = len(data[data['Netflix'] == 1])\n",
    "values['Prime Video'] = len(data[data['Prime Video'] == 1])\n",
    "values['Hulu'] = len(data[data['Hulu'] == 1])\n",
    "values['Disney+'] = len(data[data['Disney+'] == 1])\n",
    "\n",
    "sizes = list(values.values())"
   ]
  },
  {
   "cell_type": "code",
   "execution_count": null,
   "metadata": {},
   "outputs": [],
   "source": [
    "fig, axes = plt.subplots(figsize=(7,7))\n",
    "explode = (0, 0.1, 0, 0)\n",
    "\n",
    "axes.pie(sizes, explode=explode, labels=labels, autopct='%1.1f%%',shadow=True, startangle=100)\n",
    "axes.axis('equal')\n",
    "plt.show()"
   ]
  },
  {
   "cell_type": "markdown",
   "metadata": {},
   "source": [
    "# Ano de Lançamento dos Filmes por Plataforma"
   ]
  },
  {
   "cell_type": "markdown",
   "metadata": {},
   "source": [
    "# Fuções "
   ]
  },
  {
   "cell_type": "code",
   "execution_count": null,
   "metadata": {},
   "outputs": [],
   "source": [
    "data = pd.read_csv(\"MoviesOnStreamingPlatforms_updated.csv\")\n",
    "dataS = pd.read_csv(\"tv_shows.csv\")"
   ]
  },
  {
   "cell_type": "code",
   "execution_count": null,
   "metadata": {},
   "outputs": [],
   "source": [
    "def cleanAge(df):\n",
    "    for i in range(len(data['Age'])):\n",
    "        aux = df.loc[i,'Age']\n",
    "        if aux != np.nan or aux != 'all' or aux != '':\n",
    "            aux = str(aux)\n",
    "            if '+' in aux:\n",
    "                df.loc[i,'Age'] = aux.strip().split('+')[0]\n"
   ]
  },
  {
   "cell_type": "code",
   "execution_count": null,
   "metadata": {},
   "outputs": [],
   "source": [
    "def cleanTomatoes(df):\n",
    "    for i in range(len(df['Rotten Tomatoes'])):\n",
    "        aux = df.loc[i,'Rotten Tomatoes']\n",
    "        if aux != np.nan or aux != '':\n",
    "            aux = str(aux)\n",
    "            if '%' in aux:\n",
    "                df.loc[i,'Rotten Tomatoes'] = aux.strip().split('%')[0]\n",
    "\n",
    "    df['Rotten Tomatoes'] = df['Rotten Tomatoes'].apply(lambda x: float(x)/10)"
   ]
  },
  {
   "cell_type": "code",
   "execution_count": null,
   "metadata": {},
   "outputs": [],
   "source": [
    "cleanTomatoes(data)\n",
    "cleanAge(data)\n",
    "data.head(10)"
   ]
  },
  {
   "cell_type": "code",
   "execution_count": null,
   "metadata": {},
   "outputs": [],
   "source": [
    "cleanAge(dataS)\n",
    "# cleanTomatoes(dataS)\n",
    "dataS.head(10)"
   ]
  },
  {
   "cell_type": "markdown",
   "metadata": {},
   "source": [
    "# Testes"
   ]
  },
  {
   "cell_type": "code",
   "execution_count": null,
   "metadata": {},
   "outputs": [],
   "source": [
    "dataYearPV = data[data['Prime Video'] == 1][['Year']]\n",
    "dataYearPV = dataYearPV.rename(columns={'Year':\"Prime Video\"})\n",
    "\n",
    "dataYearNet = data[data['Netflix'] == 1][['Year']]\n",
    "dataYearNet = dataYearNet.rename(columns={'Year':\"Netflix\"})\n",
    "\n",
    "dataYearHulu = data[data['Hulu'] == 1][['Year']]\n",
    "dataYearHulu = dataYearHulu.rename(columns={'Year':\"Hulu\"})\n",
    "\n",
    "dataYearD = data[data['Disney+'] == 1][['Year']]\n",
    "dataYearD = dataYearD.rename(columns={'Year':\"Disney\"})\n",
    "\n",
    "dataHist = pd.concat([dataYearPV,dataYearNet, dataYearHulu, dataYearD], axis=1)"
   ]
  },
  {
   "cell_type": "code",
   "execution_count": null,
   "metadata": {},
   "outputs": [],
   "source": [
    "dataHist"
   ]
  },
  {
   "cell_type": "markdown",
   "metadata": {},
   "source": [
    "## Histograma com subplot legal"
   ]
  },
  {
   "cell_type": "code",
   "execution_count": null,
   "metadata": {},
   "outputs": [],
   "source": [
    "dataHist.hist(bins = 12, range = (1900,2020), figsize=(14, 12), log = True, label = ['ano', 'quantidade'])\n",
    "\n",
    "# plt.xlabel(\"X-axis\") \n",
    "# plt.ylabel(\"y-axis\") \n",
    "plt.show()"
   ]
  },
  {
   "cell_type": "markdown",
   "metadata": {},
   "source": [
    "## Histograma com subplot vertical"
   ]
  },
  {
   "cell_type": "code",
   "execution_count": null,
   "metadata": {},
   "outputs": [],
   "source": [
    "# plt.subplot(2, 2, 1)\n",
    "dataYearPV.hist(bins = 12, range = (1900,2020))\n",
    "plt.title('Prime Videos')\n",
    "plt.xlabel('Ano')\n",
    "plt.ylabel('Qntd')\n",
    "plt.show()\n",
    "\n",
    "# plt.subplot(2, 2, 2)\n",
    "dataYearNet.hist(bins = 12, range = (1900,2020))\n",
    "plt.title('Netflix')\n",
    "plt.xlabel('Ano')\n",
    "plt.ylabel('Qntd')\n",
    "plt.show()\n",
    "\n",
    "# plt.subplot(2, 2, 3)\n",
    "dataYearHulu.hist(bins = 12, range = (1900,2020))\n",
    "plt.title('Hulu')\n",
    "plt.xlabel('Ano')\n",
    "plt.ylabel('Qntd')\n",
    "plt.show()\n",
    "\n",
    "# plt.subplot(2, 2, 4)\n",
    "dataYearD.hist(bins = 12, range = (1900,2020))\n",
    "plt.title('Disney+')\n",
    "plt.xlabel('Ano')\n",
    "plt.ylabel('Qntd')\n",
    "plt.show()"
   ]
  }
 ],
 "metadata": {
  "kernelspec": {
   "display_name": "Python 3",
   "language": "python",
   "name": "python3"
  },
  "language_info": {
   "codemirror_mode": {
    "name": "ipython",
    "version": 3
   },
   "file_extension": ".py",
   "mimetype": "text/x-python",
   "name": "python",
   "nbconvert_exporter": "python",
   "pygments_lexer": "ipython3",
   "version": "3.8.1"
  }
 },
 "nbformat": 4,
 "nbformat_minor": 4
}
