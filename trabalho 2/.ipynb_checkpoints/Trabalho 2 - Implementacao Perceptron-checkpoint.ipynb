{
 "cells": [
  {
   "cell_type": "markdown",
   "metadata": {},
   "source": [
    "## Implementação de um Classificador Perceptron"
   ]
  },
  {
   "cell_type": "code",
   "execution_count": 1,
   "metadata": {},
   "outputs": [],
   "source": [
    "import numpy as np\n",
    "import pandas as pd\n",
    "import seaborn as sn\n",
    "import matplotlib.pyplot as plt\n",
    "\n",
    "%matplotlib inline"
   ]
  },
  {
   "cell_type": "code",
   "execution_count": 2,
   "metadata": {},
   "outputs": [],
   "source": [
    "class Perceptron(object):\n",
    "    \"\"\"Perceptron classifier.\n",
    "\n",
    "    Parameters\n",
    "    ------------\n",
    "    eta : float\n",
    "      Learning rate (between 0.0 and 1.0)\n",
    "    n_iter : int\n",
    "      Passes over the training dataset.\n",
    "    random_state : int\n",
    "      Random number generator seed for random weight\n",
    "      initialization.\n",
    "\n",
    "    Attributes\n",
    "    -----------\n",
    "    w_ : 1d-array\n",
    "      Weights after fitting.\n",
    "    errors_ : list\n",
    "      Number of misclassifications (updates) in each epoch.\n",
    "\n",
    "    \"\"\"\n",
    "    def __init__(self, eta=0.01, n_iter=50, random_state=1):\n",
    "        self.eta = eta\n",
    "        self.n_iter = n_iter\n",
    "        self.random_state = random_state\n",
    "\n",
    "    def fit(self, X, y):\n",
    "        \"\"\"Fit training data.\n",
    "\n",
    "        Parameters\n",
    "        ----------\n",
    "        X : {array-like}, shape = [n_examples, n_features]\n",
    "          Training vectors, where n_examples is the number of examples and\n",
    "          n_features is the number of features.\n",
    "        y : array-like, shape = [n_examples]\n",
    "          Target values.\n",
    "\n",
    "        Returns\n",
    "        -------\n",
    "        self : object\n",
    "\n",
    "        \"\"\"\n",
    "        rgen = np.random.RandomState(self.random_state)\n",
    "        self.w_ = rgen.normal(loc=0.0, scale=0.01, size=1 + X.shape[1])\n",
    "        self.errors_ = []\n",
    "\n",
    "        for _ in range(self.n_iter):\n",
    "            errors = 0\n",
    "            for xi, target in zip(X, y):\n",
    "                update = self.eta * (target - self.predict(xi))\n",
    "                self.w_[1:] += update * xi\n",
    "                self.w_[0] += update\n",
    "                errors += int(update != 0.0)\n",
    "            self.errors_.append(errors)\n",
    "        return self\n",
    "\n",
    "    def net_input(self, X):\n",
    "        \"\"\"Calculate net input\"\"\"\n",
    "        return np.dot(X, self.w_[1:]) + self.w_[0]\n",
    "\n",
    "    def predict(self, X):\n",
    "        \"\"\"Return class label after unit step\"\"\"\n",
    "        return np.where(self.net_input(X) >= 0.0, 1, -1)"
   ]
  },
  {
   "cell_type": "markdown",
   "metadata": {},
   "source": [
    "## Testando o classificador Perceptron"
   ]
  },
  {
   "cell_type": "code",
   "execution_count": 3,
   "metadata": {
    "scrolled": true
   },
   "outputs": [
    {
     "name": "stdout",
     "output_type": "stream",
     "text": [
      "Resultado da Predição [-1  1 -1]\n"
     ]
    }
   ],
   "source": [
    "\"\"\"Dados de Treinamento \"\"\"\n",
    "X = np.array([[1,1],[2,2],[3,3]])\n",
    "y = np.array([1,1,-1])\n",
    "\n",
    "\"\"\"Criando objeto Perceptron\"\"\"\n",
    "ppn = Perceptron(eta=0.1, n_iter=100)\n",
    "\n",
    "\"\"\"Treinando o modelo\"\"\"\n",
    "ppn.fit(X, y)\n",
    "\n",
    "\"\"\"Testando modelo treinado \"\"\"\n",
    "X_newdata = np.array([[4,4],[2,2],[3,3]])\n",
    "print(\"Resultado da Predição\",ppn.predict(X_newdata));"
   ]
  },
  {
   "cell_type": "markdown",
   "metadata": {},
   "source": [
    "## Questao 1 - Implemente uma função para calcular a acurácia do modelo"
   ]
  },
  {
   "cell_type": "code",
   "execution_count": 4,
   "metadata": {},
   "outputs": [],
   "source": [
    "def accuracy(x, y, confusion = False):\n",
    "    pred = np.array(x)\n",
    "    real = np.array(y)\n",
    "    if(pred.size != real.size):\n",
    "        print('different sizes')\n",
    "        return   \n",
    "    rClasses = {i:j for i,j in zip(np.unique(real),range(np.unique(real).size))} # realClasses\n",
    "    \n",
    "    pClasses = {i:j for i,j in zip(np.unique(pred),range(np.unique(pred).size))} # predictedClasses\n",
    "#     if(pClasses.keys()!=rClasses.keys()):\n",
    "        \n",
    "#         print('classes diferentes \\n classes x = %s \\n classes y = %s'%(pClasses.keys(),rClasses.keys()))\n",
    "#         return\n",
    "    if(confusion):\n",
    "        ConfMatrix = np.zeros([np.unique(real).size,np.unique(real).size], int)\n",
    "        for i,j in zip(real,pred):\n",
    "            ConfMatrix[rClasses[i],pClasses[j]] += 1\n",
    "#         tp = #TruePositives\n",
    "#         tn = #TrueNegatives\n",
    "#         fp = #FalsePositives\n",
    "#         fn = #FalseNegaives\n",
    "        acc = round(float(ConfMatrix.diagonal().sum()/ConfMatrix.sum()),2) #Valores preditos corretamente sobre todos os valores\n",
    "        return acc, ConfMatrix \n",
    "    else:\n",
    "        acc = 0\n",
    "        for i,j in zip(real,pred):\n",
    "            acc += 1 if(i==j) else 0\n",
    "        return round(float(acc/real.size),2)\n",
    "    \n",
    "    "
   ]
  },
  {
   "cell_type": "code",
   "execution_count": 5,
   "metadata": {},
   "outputs": [
    {
     "data": {
      "text/plain": [
       "<matplotlib.axes._subplots.AxesSubplot at 0x1803ea69b80>"
      ]
     },
     "execution_count": 5,
     "metadata": {},
     "output_type": "execute_result"
    },
    {
     "data": {
      "image/png": "[encoded data removed]",
      "text/plain": [
       "<Figure size 432x288 with 2 Axes>"
      ]
     },
     "metadata": {
      "needs_background": "light"
     },
     "output_type": "display_data"
    }
   ],
   "source": [
    "x = np.array([1,1,1,0,0,1,0,1])\n",
    "y = np.array([1,1,1,0,0,0,1,0])\n",
    "acc, teste = accuracy(x,y,confusion = True)\n",
    "teste\n",
    "sn.heatmap(teste,annot=True)"
   ]
  },
  {
   "cell_type": "code",
   "execution_count": 6,
   "metadata": {},
   "outputs": [
    {
     "data": {
      "text/plain": [
       "<matplotlib.axes._subplots.AxesSubplot at 0x1803ee8ad90>"
      ]
     },
     "execution_count": 6,
     "metadata": {},
     "output_type": "execute_result"
    },
    {
     "data": {
      "image/png": "[encoded data removed]",
      "text/plain": [
       "<Figure size 432x288 with 2 Axes>"
      ]
     },
     "metadata": {
      "needs_background": "light"
     },
     "output_type": "display_data"
    }
   ],
   "source": [
    "teste = pd.crosstab(y, x, dropna=False, rownames=['Actual'], colnames=['Predicted'], margins = True)\n",
    "teste\n",
    "sn.heatmap(teste,annot=True)"
   ]
  },
  {
   "cell_type": "code",
   "execution_count": 7,
   "metadata": {},
   "outputs": [
    {
     "data": {
      "text/plain": [
       "<matplotlib.axes._subplots.AxesSubplot at 0x1803ff8acd0>"
      ]
     },
     "execution_count": 7,
     "metadata": {},
     "output_type": "execute_result"
    },
    {
     "data": {
      "image/png": "[encoded data removed]",
      "text/plain": [
       "<Figure size 432x288 with 2 Axes>"
      ]
     },
     "metadata": {
      "needs_background": "light"
     },
     "output_type": "display_data"
    }
   ],
   "source": [
    "teste = pd.crosstab(y, x, dropna=False, rownames=['Actual'], colnames=['Predicted'])\n",
    "teste\n",
    "sn.heatmap(teste,annot=True)"
   ]
  },
  {
   "cell_type": "markdown",
   "metadata": {},
   "source": [
    "## Questao 2 - Implemente um método de validação cruzada para testar "
   ]
  },
  {
   "cell_type": "markdown",
   "metadata": {},
   "source": [
    "### Vamos utilizar o método K-Fold Cross Validation, com um K padrão de 4, porém podendo ser variado"
   ]
  },
  {
   "cell_type": "code",
   "execution_count": 8,
   "metadata": {},
   "outputs": [],
   "source": [
    "def crossVal(perceptron, x, y, k = 4):\n",
    "    if(y.shape[0]!= x.shape[0]):\n",
    "        print('Tamanhos diferentes')\n",
    "        return\n",
    "    size = y.shape[0]\n",
    "    acc = np.zeros(k)\n",
    "    for i in range(k):\n",
    "        iTeste = round((i)*size/k)\n",
    "        fTeste = round((i+1)*size/k)\n",
    "\n",
    "        xTeste = x[iTeste:fTeste,:] \n",
    "        yTeste = y[iTeste:fTeste] \n",
    "\n",
    "        xTreino = np.concatenate((x[0:iTeste,:], x[fTeste:,:]), axis=0)\n",
    "        yTreino = np.concatenate((y[0:iTeste], y[fTeste:]), axis=0)\n",
    "\n",
    "        perceptron.fit(xTreino, yTreino)\n",
    "        predict = perceptron.predict(xTeste)\n",
    "#         #os prints é são para facilitar a conclusão de que a função está funcionndo corretamente\n",
    "#         print(\"\\nNa iteração %d\"%i)\n",
    "#         print(\"dado teste = %s\"%(xTeste))          \n",
    "#         print(\"predição   = %s\"%(predict))            \n",
    "#         print(\"real       = %s\"%(yTeste))            \n",
    "        acc[i] = accuracy(predict,yTeste)\n",
    "#         print(\"com acurárica de %0.02f\"%acc[i])\n",
    "    return acc.mean()"
   ]
  },
  {
   "cell_type": "markdown",
   "metadata": {},
   "source": [
    "## Teste o classificador usando um conjunto de dados linearmente separável e outro não linearmente separável\n",
    "### Sugestão: crie datasets sintéticos com apenas dois atributos para voce poder visualizar a separação das classes"
   ]
  },
  {
   "cell_type": "markdown",
   "metadata": {},
   "source": [
    "# 2.1   Data set sintético com classes  *linearmente separáveis*\n",
    "## x[n] = [a,b]\n",
    "## y = 1 se a+b>=2*b, se não y = -1"
   ]
  },
  {
   "cell_type": "code",
   "execution_count": 9,
   "metadata": {},
   "outputs": [
    {
     "data": {
      "image/png": "[encoded data removed]",
      "text/plain": [
       "<Figure size 576x288 with 1 Axes>"
      ]
     },
     "metadata": {
      "needs_background": "light"
     },
     "output_type": "display_data"
    }
   ],
   "source": [
    "X = np.array([[1,1],[2,2],[2,3],[3,3],[4,4],[5,7],[6,6],[7,3],[8,8],[8,6],[1,2],[3,5],[9,10],[6,8],[10,9],[25,26],[50,50]\n",
    "             ,[17,14],[14,17],[21,40]])\n",
    "\n",
    "# esse X comentado gera todas as predições do X_newdata corretos\n",
    "y = np.zeros(X.shape[0],int)\n",
    "for i in range(y.size):\n",
    "    y[i] = 1 if(X[i][0]+X[i][1]>=2*X[i][1]) else -1\n",
    "plt.figure(figsize=(8,4))\n",
    "plt.scatter(x = X[:,0], y = X[:,1], c = y)\n",
    "plt.show()"
   ]
  },
  {
   "cell_type": "markdown",
   "metadata": {},
   "source": [
    "### Testando o perceptron com 20 amostras, e usando K-Fold Cross Validation, com K = 4"
   ]
  },
  {
   "cell_type": "code",
   "execution_count": 10,
   "metadata": {},
   "outputs": [
    {
     "data": {
      "text/plain": [
       "0.75"
      ]
     },
     "execution_count": 10,
     "metadata": {},
     "output_type": "execute_result"
    }
   ],
   "source": [
    "\n",
    "acc = crossVal(ppn, X, y, k = 4)\n",
    "acc"
   ]
  },
  {
   "cell_type": "markdown",
   "metadata": {},
   "source": [
    "# 2.2   Data set sintético com classes $\\color{red}{não}$ *lineramente separáveis*\n",
    "## x[n] = [a,b]\n",
    "## y = 1 se a+b>=$a^2$, se não y = -1"
   ]
  },
  {
   "cell_type": "code",
   "execution_count": 11,
   "metadata": {},
   "outputs": [
    {
     "data": {
      "image/png": "[encoded data removed]",
      "text/plain": [
       "<Figure size 576x288 with 1 Axes>"
      ]
     },
     "metadata": {
      "needs_background": "light"
     },
     "output_type": "display_data"
    }
   ],
   "source": [
    "X = np.array([[1,1],[2,2],[2,3],[3,3],[4,4],[5,7],[6,30],[7,29],[8,60],[8,54],[1,2],[3,60],[9,100],[6,18],[10,89],[25,26],\n",
    "              [100,50],[17,14],[14,17],[21,40]])\n",
    "\n",
    "# esse X comentado gera todas as predições do X_newdata corretos\n",
    "y = np.zeros(X.shape[0],int)\n",
    "for i in range(y.size):\n",
    "    a = X[i][0]\n",
    "    b = X[i][1]\n",
    "    y[i] = 1 if(a+b>=a**2) else -1\n",
    "    \n",
    "plt.figure(figsize=(8,4))\n",
    "plt.scatter(x = X[:,0], y = X[:,1], c = y)\n",
    "plt.show()"
   ]
  },
  {
   "cell_type": "markdown",
   "metadata": {},
   "source": [
    "### Testando o perceptron com 20 amostras, e usando K-Fold Cross Validation, com K = 4"
   ]
  },
  {
   "cell_type": "code",
   "execution_count": 12,
   "metadata": {},
   "outputs": [
    {
     "data": {
      "text/plain": [
       "0.65"
      ]
     },
     "execution_count": 12,
     "metadata": {},
     "output_type": "execute_result"
    }
   ],
   "source": [
    "    \n",
    "acc = crossVal(ppn, X, y, k = 4)\n",
    "acc"
   ]
  },
  {
   "cell_type": "markdown",
   "metadata": {},
   "source": [
    "## Questao 3 - Treine um classificador perceptron para os dados de seu estudo de caso"
   ]
  },
  {
   "cell_type": "code",
   "execution_count": 66,
   "metadata": {},
   "outputs": [],
   "source": []
  },
  {
   "cell_type": "code",
   "execution_count": 134,
   "metadata": {},
   "outputs": [
    {
     "data": {
      "text/html": [
       "<div>\n",
       "<style scoped>\n",
       "    .dataframe tbody tr th:only-of-type {\n",
       "        vertical-align: middle;\n",
       "    }\n",
       "\n",
       "    .dataframe tbody tr th {\n",
       "        vertical-align: top;\n",
       "    }\n",
       "\n",
       "    .dataframe thead th {\n",
       "        text-align: right;\n",
       "    }\n",
       "</style>\n",
       "<table border=\"1\" class=\"dataframe\">\n",
       "  <thead>\n",
       "    <tr style=\"text-align: right;\">\n",
       "      <th></th>\n",
       "      <th>Image</th>\n",
       "      <th>CDR</th>\n",
       "      <th>NRR</th>\n",
       "      <th>Glaucoma</th>\n",
       "    </tr>\n",
       "  </thead>\n",
       "  <tbody>\n",
       "    <tr>\n",
       "      <th>0</th>\n",
       "      <td>drishtiGS_002</td>\n",
       "      <td>0.3032</td>\n",
       "      <td>0.6597</td>\n",
       "      <td>1</td>\n",
       "    </tr>\n",
       "    <tr>\n",
       "      <th>1</th>\n",
       "      <td>drishtiGS_004</td>\n",
       "      <td>0.2785</td>\n",
       "      <td>1.0305</td>\n",
       "      <td>1</td>\n",
       "    </tr>\n",
       "    <tr>\n",
       "      <th>2</th>\n",
       "      <td>drishtiGS_008</td>\n",
       "      <td>0.4323</td>\n",
       "      <td>0.9216</td>\n",
       "      <td>-1</td>\n",
       "    </tr>\n",
       "    <tr>\n",
       "      <th>3</th>\n",
       "      <td>drishtiGS_010</td>\n",
       "      <td>0.5524</td>\n",
       "      <td>1.1925</td>\n",
       "      <td>1</td>\n",
       "    </tr>\n",
       "    <tr>\n",
       "      <th>4</th>\n",
       "      <td>drishtiGS_012</td>\n",
       "      <td>0.5466</td>\n",
       "      <td>0.7486</td>\n",
       "      <td>1</td>\n",
       "    </tr>\n",
       "  </tbody>\n",
       "</table>\n",
       "</div>"
      ],
      "text/plain": [
       "           Image     CDR     NRR  Glaucoma\n",
       "0  drishtiGS_002  0.3032  0.6597         1\n",
       "1  drishtiGS_004  0.2785  1.0305         1\n",
       "2  drishtiGS_008  0.4323  0.9216        -1\n",
       "3  drishtiGS_010  0.5524  1.1925         1\n",
       "4  drishtiGS_012  0.5466  0.7486         1"
      ]
     },
     "execution_count": 134,
     "metadata": {},
     "output_type": "execute_result"
    }
   ],
   "source": [
    "data1 = pd.read_csv('Glaucoma.csv', index_col=0)\n",
    "data1.head()"
   ]
  },
  {
   "cell_type": "code",
   "execution_count": 135,
   "metadata": {},
   "outputs": [
    {
     "data": {
      "text/plain": [
       "<matplotlib.collections.PathCollection at 0x18040648490>"
      ]
     },
     "execution_count": 135,
     "metadata": {},
     "output_type": "execute_result"
    },
    {
     "data": {
      "image/png": "[encoded data removed]",
      "text/plain": [
       "<Figure size 576x288 with 1 Axes>"
      ]
     },
     "metadata": {
      "needs_background": "light"
     },
     "output_type": "display_data"
    }
   ],
   "source": [
    "plt.figure(figsize=(8,4))\n",
    "plt.scatter('CDR','NRR',data=data1,c='Glaucoma')"
   ]
  },
  {
   "cell_type": "code",
   "execution_count": 137,
   "metadata": {},
   "outputs": [
    {
     "data": {
      "text/html": [
       "<div>\n",
       "<style scoped>\n",
       "    .dataframe tbody tr th:only-of-type {\n",
       "        vertical-align: middle;\n",
       "    }\n",
       "\n",
       "    .dataframe tbody tr th {\n",
       "        vertical-align: top;\n",
       "    }\n",
       "\n",
       "    .dataframe thead th {\n",
       "        text-align: right;\n",
       "    }\n",
       "</style>\n",
       "<table border=\"1\" class=\"dataframe\">\n",
       "  <thead>\n",
       "    <tr style=\"text-align: right;\">\n",
       "      <th></th>\n",
       "      <th>Image</th>\n",
       "      <th>CDR</th>\n",
       "      <th>NRR</th>\n",
       "      <th>Glaucoma</th>\n",
       "    </tr>\n",
       "  </thead>\n",
       "  <tbody>\n",
       "    <tr>\n",
       "      <th>0</th>\n",
       "      <td>image100prime.tif</td>\n",
       "      <td>0.1269</td>\n",
       "      <td>0.4336</td>\n",
       "      <td>1</td>\n",
       "    </tr>\n",
       "    <tr>\n",
       "      <th>1</th>\n",
       "      <td>image101prime.tif</td>\n",
       "      <td>0.2644</td>\n",
       "      <td>0.3000</td>\n",
       "      <td>1</td>\n",
       "    </tr>\n",
       "    <tr>\n",
       "      <th>2</th>\n",
       "      <td>image102prime.tif</td>\n",
       "      <td>0.1602</td>\n",
       "      <td>0.3136</td>\n",
       "      <td>1</td>\n",
       "    </tr>\n",
       "    <tr>\n",
       "      <th>3</th>\n",
       "      <td>image103prime.tif</td>\n",
       "      <td>0.1723</td>\n",
       "      <td>0.0094</td>\n",
       "      <td>1</td>\n",
       "    </tr>\n",
       "    <tr>\n",
       "      <th>4</th>\n",
       "      <td>image104prime.tif</td>\n",
       "      <td>0.2492</td>\n",
       "      <td>0.5567</td>\n",
       "      <td>1</td>\n",
       "    </tr>\n",
       "  </tbody>\n",
       "</table>\n",
       "</div>"
      ],
      "text/plain": [
       "               Image     CDR     NRR  Glaucoma\n",
       "0  image100prime.tif  0.1269  0.4336         1\n",
       "1  image101prime.tif  0.2644  0.3000         1\n",
       "2  image102prime.tif  0.1602  0.3136         1\n",
       "3  image103prime.tif  0.1723  0.0094         1\n",
       "4  image104prime.tif  0.2492  0.5567         1"
      ]
     },
     "execution_count": 137,
     "metadata": {},
     "output_type": "execute_result"
    }
   ],
   "source": [
    "data2 = pd.read_csv('GlaucomaKaggle.csv', index_col=0)\n",
    "data2.head()"
   ]
  },
  {
   "cell_type": "code",
   "execution_count": 138,
   "metadata": {},
   "outputs": [
    {
     "data": {
      "text/plain": [
       "<matplotlib.collections.PathCollection at 0x180406bfee0>"
      ]
     },
     "execution_count": 138,
     "metadata": {},
     "output_type": "execute_result"
    },
    {
     "data": {
      "image/png": "[encoded data removed]",
      "text/plain": [
       "<Figure size 576x288 with 1 Axes>"
      ]
     },
     "metadata": {
      "needs_background": "light"
     },
     "output_type": "display_data"
    }
   ],
   "source": [
    "plt.figure(figsize=(8,4))\n",
    "plt.scatter('CDR','NRR',data=data2,c='Glaucoma')"
   ]
  },
  {
   "cell_type": "code",
   "execution_count": 139,
   "metadata": {},
   "outputs": [],
   "source": [
    "x = data2.iloc[:,1:3].values\n",
    "y = data2.iloc[:,3].values"
   ]
  },
  {
   "cell_type": "code",
   "execution_count": 140,
   "metadata": {},
   "outputs": [
    {
     "data": {
      "text/plain": [
       "array([[1.26900e-01, 4.33600e-01],\n",
       "       [2.64400e-01, 3.00000e-01],\n",
       "       [1.60200e-01, 3.13600e-01],\n",
       "       [1.72300e-01, 9.40000e-03],\n",
       "       [2.49200e-01, 5.56700e-01],\n",
       "       [3.31600e-01, 8.09300e-01],\n",
       "       [3.28000e-01, 1.73900e-01],\n",
       "       [9.86000e-02, 7.61300e-01],\n",
       "       [2.25300e-01, 1.96010e+00],\n",
       "       [3.36000e-01, 7.48900e-01],\n",
       "       [2.27000e-01, 1.03970e+00],\n",
       "       [2.50800e-01, 6.28900e-01],\n",
       "       [3.14500e-01, 5.88300e-01],\n",
       "       [1.59000e-01, 5.01000e-02],\n",
       "       [4.98100e-01, 7.48800e-01],\n",
       "       [1.13500e-01, 3.36100e-01],\n",
       "       [9.98400e-01, 6.66700e-01],\n",
       "       [2.54900e-01, 7.85600e-01],\n",
       "       [2.38800e-01, 4.94300e-01],\n",
       "       [2.73100e-01, 4.15200e-01],\n",
       "       [3.25700e-01, 1.59040e+00],\n",
       "       [3.48300e-01, 8.67600e-01],\n",
       "       [2.81100e-01, 1.11760e+00],\n",
       "       [1.77900e-01, 4.22900e-01],\n",
       "       [1.51600e-01, 5.54700e-01],\n",
       "       [2.79500e-01, 5.42100e-01],\n",
       "       [3.35300e-01, 2.33000e-01],\n",
       "       [3.25000e-01, 3.38000e-02],\n",
       "       [3.62800e-01, 3.28100e-01],\n",
       "       [2.75900e-01, 1.41580e+00],\n",
       "       [3.88700e-01, 3.04800e-01],\n",
       "       [1.86300e-01, 1.14700e-01],\n",
       "       [1.61300e-01, 5.74900e-01],\n",
       "       [1.48400e-01, 6.22600e-01],\n",
       "       [4.87300e-01, 9.61700e-01],\n",
       "       [2.93400e-01, 9.14600e-01],\n",
       "       [1.17100e-01, 6.54100e-01],\n",
       "       [3.07500e-01, 1.72530e+00],\n",
       "       [1.07400e-01, 4.02100e-01],\n",
       "       [1.18700e-01, 3.99900e-01],\n",
       "       [1.29800e-01, 4.75000e-02],\n",
       "       [3.50800e-01, 1.57960e+00],\n",
       "       [2.62500e-01, 1.34770e+00],\n",
       "       [2.58600e-01, 1.55690e+00],\n",
       "       [1.88300e-01, 3.91800e-01],\n",
       "       [3.07700e-01, 1.00700e-01],\n",
       "       [1.53500e-01, 1.03250e+00],\n",
       "       [2.37000e-01, 8.88700e-01],\n",
       "       [2.47100e-01, 7.79200e-01],\n",
       "       [2.57300e-01, 7.58000e-01],\n",
       "       [8.83000e-02, 6.11400e-01],\n",
       "       [8.33000e-02, 7.48200e-01],\n",
       "       [3.63000e-01, 1.24080e+00],\n",
       "       [2.96700e-01, 4.26300e-01],\n",
       "       [4.28400e-01, 1.04320e+00],\n",
       "       [1.30000e-03, 1.17750e+00],\n",
       "       [1.58600e-01, 7.85900e-01],\n",
       "       [1.97300e-01, 1.22380e+00],\n",
       "       [9.56200e-01, 0.00000e+00],\n",
       "       [1.58900e-01, 1.48300e-01],\n",
       "       [2.27500e-01, 7.72900e-01],\n",
       "       [2.10400e-01, 1.55960e+00],\n",
       "       [1.96400e-01, 6.38900e-01],\n",
       "       [2.22600e-01, 1.16890e+00],\n",
       "       [9.99900e-01, 0.00000e+00],\n",
       "       [4.34300e-01, 1.10540e+00],\n",
       "       [2.29900e-01, 1.17640e+00],\n",
       "       [1.77200e-01, 1.53900e-01],\n",
       "       [2.60900e-01, 6.26400e-01],\n",
       "       [2.04400e-01, 1.02400e-01],\n",
       "       [2.00800e-01, 6.84700e-01],\n",
       "       [4.10100e-01, 7.91700e-01],\n",
       "       [1.48700e-01, 1.08700e-01],\n",
       "       [9.98900e-01, 0.00000e+00],\n",
       "       [1.12300e-01, 9.17300e-01],\n",
       "       [3.47300e-01, 1.16360e+00],\n",
       "       [3.63900e-01, 1.06700e+00],\n",
       "       [0.00000e+00, 5.17600e-01],\n",
       "       [3.93300e-01, 1.25830e+00],\n",
       "       [1.12900e-01, 4.43000e-02],\n",
       "       [2.51700e-01, 5.20000e-01],\n",
       "       [2.00600e-01, 1.51380e+00],\n",
       "       [3.14100e-01, 9.16400e-01],\n",
       "       [1.15800e-01, 5.56400e-01],\n",
       "       [1.60900e-01, 1.52000e-01],\n",
       "       [2.34100e-01, 3.18100e-01],\n",
       "       [1.71800e-01, 6.93100e-01],\n",
       "       [4.26700e-01, 1.54930e+00],\n",
       "       [2.93200e-01, 9.19300e-01],\n",
       "       [1.65400e-01, 9.65200e-01],\n",
       "       [1.42600e-01, 6.51300e-01],\n",
       "       [2.21800e-01, 1.52390e+00],\n",
       "       [2.44900e-01, 1.34280e+00],\n",
       "       [1.74900e-01, 3.46200e-01],\n",
       "       [8.69000e-02, 9.89400e-01],\n",
       "       [2.19200e-01, 5.13100e-01],\n",
       "       [3.23800e-01, 7.19100e-01],\n",
       "       [2.26900e-01, 5.43200e-01],\n",
       "       [0.00000e+00, 1.14100e+00],\n",
       "       [1.88300e-01, 1.05690e+00],\n",
       "       [4.01400e-01, 8.59500e-01],\n",
       "       [5.24600e-01, 1.70520e+00],\n",
       "       [1.95700e-01, 1.18700e-01],\n",
       "       [2.26100e-01, 7.89000e-02],\n",
       "       [5.31400e-01, 1.54700e-01],\n",
       "       [4.29200e-01, 9.25300e-01],\n",
       "       [4.33400e-01, 2.28200e-01],\n",
       "       [3.92700e-01, 1.04600e+00],\n",
       "       [3.56900e-01, 1.25300e+00],\n",
       "       [2.61400e-01, 8.85600e-01],\n",
       "       [2.93700e-01, 1.06070e+00],\n",
       "       [3.06900e-01, 6.96100e-01],\n",
       "       [1.76800e-01, 1.41000e-02],\n",
       "       [1.77500e-01, 6.02200e-01],\n",
       "       [2.97100e-01, 9.68400e-01],\n",
       "       [4.72100e-01, 1.26820e+00],\n",
       "       [7.43000e-02, 1.07275e+01],\n",
       "       [3.93400e-01, 6.65800e-01],\n",
       "       [4.91500e-01, 1.08720e+00],\n",
       "       [2.35100e-01, 9.01400e-01],\n",
       "       [5.50000e-01, 9.95900e-01],\n",
       "       [3.91200e-01, 1.07100e-01],\n",
       "       [3.28600e-01, 1.08500e-01],\n",
       "       [3.22700e-01, 9.72000e-01],\n",
       "       [4.56500e-01, 1.08300e+00],\n",
       "       [2.51400e-01, 5.19400e-01],\n",
       "       [9.90200e-01, 4.25500e-01],\n",
       "       [3.12000e-01, 8.85300e-01],\n",
       "       [2.66800e-01, 7.58000e-01],\n",
       "       [3.78800e-01, 1.18000e+00],\n",
       "       [3.49700e-01, 9.90000e-01],\n",
       "       [5.46600e-01, 1.44820e+00],\n",
       "       [2.78000e-01, 4.68500e-01],\n",
       "       [2.67900e-01, 9.96500e-01],\n",
       "       [2.89200e-01, 9.57100e-01],\n",
       "       [2.89700e-01, 1.11060e+00],\n",
       "       [3.92600e-01, 1.07570e+00],\n",
       "       [2.36800e-01, 6.69500e-01],\n",
       "       [2.14000e-01, 9.70400e-01],\n",
       "       [3.04000e-01, 1.15160e+00],\n",
       "       [1.78200e-01, 1.82900e-01],\n",
       "       [1.55300e-01, 1.40170e+00],\n",
       "       [4.01000e-01, 5.75300e-01],\n",
       "       [4.15100e-01, 1.09610e+00],\n",
       "       [5.95000e-01, 1.39820e+00],\n",
       "       [3.04800e-01, 9.23400e-01],\n",
       "       [4.35700e-01, 1.17350e+00],\n",
       "       [6.93300e-01, 3.74140e+00],\n",
       "       [1.77200e-01, 1.11530e+00],\n",
       "       [3.21400e-01, 8.68200e-01],\n",
       "       [2.60200e-01, 8.46600e-01],\n",
       "       [1.40900e-01, 8.24100e-01],\n",
       "       [4.08500e-01, 9.28700e-01],\n",
       "       [2.81600e-01, 9.87800e-01],\n",
       "       [9.99700e-01, 0.00000e+00],\n",
       "       [1.35000e-01, 9.89000e-02],\n",
       "       [2.76400e-01, 6.54300e-01],\n",
       "       [2.10500e-01, 8.62200e-01],\n",
       "       [2.84800e-01, 8.84200e-01],\n",
       "       [3.83800e-01, 6.17000e-02],\n",
       "       [3.39300e-01, 1.00510e+00],\n",
       "       [3.06500e-01, 1.05270e+00],\n",
       "       [2.73200e-01, 1.59300e-01],\n",
       "       [3.47500e-01, 1.35950e+00],\n",
       "       [6.08900e-01, 7.92900e-01],\n",
       "       [5.59700e-01, 7.58700e-01],\n",
       "       [2.86400e-01, 1.81900e-01],\n",
       "       [1.85600e-01, 1.10080e+00],\n",
       "       [2.44600e-01, 6.90700e-01],\n",
       "       [2.79400e-01, 8.74600e-01],\n",
       "       [2.22800e-01, 5.32000e+00],\n",
       "       [2.87900e-01, 3.74000e-02],\n",
       "       [2.80800e-01, 1.47500e-01],\n",
       "       [4.06400e-01, 1.14680e+00],\n",
       "       [5.23800e-01, 1.24700e-01],\n",
       "       [3.03900e-01, 1.48770e+00],\n",
       "       [3.23400e-01, 6.90000e-02],\n",
       "       [2.86200e-01, 1.04360e+00],\n",
       "       [2.86500e-01, 1.91910e+00],\n",
       "       [9.97700e-01, 0.00000e+00],\n",
       "       [4.55400e-01, 1.23830e+00],\n",
       "       [2.88600e-01, 1.40080e+00],\n",
       "       [5.88100e-01, 6.86900e-01],\n",
       "       [4.38000e-01, 9.45600e-01],\n",
       "       [2.70200e-01, 8.49000e-02],\n",
       "       [8.87000e-01, 0.00000e+00],\n",
       "       [2.89600e-01, 8.62000e-02],\n",
       "       [2.36900e-01, 9.05000e-02],\n",
       "       [3.34700e-01, 8.87700e-01],\n",
       "       [3.94400e-01, 2.44480e+00],\n",
       "       [2.50100e-01, 9.38400e-01],\n",
       "       [2.75800e-01, 8.14000e-02],\n",
       "       [2.92700e-01, 1.07290e+00],\n",
       "       [3.01500e-01, 9.67900e-01],\n",
       "       [4.25400e-01, 8.93300e-01],\n",
       "       [2.88800e-01, 1.41000e-01],\n",
       "       [2.16300e-01, 9.40200e-01],\n",
       "       [3.39300e-01, 1.30070e+00],\n",
       "       [3.76700e-01, 8.76200e-01],\n",
       "       [6.90500e-01, 7.45200e-01]])"
      ]
     },
     "execution_count": 140,
     "metadata": {},
     "output_type": "execute_result"
    }
   ],
   "source": [
    "x"
   ]
  },
  {
   "cell_type": "code",
   "execution_count": null,
   "metadata": {},
   "outputs": [],
   "source": []
  },
  {
   "cell_type": "code",
   "execution_count": null,
   "metadata": {},
   "outputs": [],
   "source": []
  }
 ],
 "metadata": {
  "kernelspec": {
   "display_name": "Python 3",
   "language": "python",
   "name": "python3"
  },
  "language_info": {
   "codemirror_mode": {
    "name": "ipython",
    "version": 3
   },
   "file_extension": ".py",
   "mimetype": "text/x-python",
   "name": "python",
   "nbconvert_exporter": "python",
   "pygments_lexer": "ipython3",
   "version": "3.8.1"
  }
 },
 "nbformat": 4,
 "nbformat_minor": 4
}
