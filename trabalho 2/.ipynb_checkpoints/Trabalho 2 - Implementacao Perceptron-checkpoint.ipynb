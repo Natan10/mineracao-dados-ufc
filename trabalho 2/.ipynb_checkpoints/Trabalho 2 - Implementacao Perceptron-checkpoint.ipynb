{
 "cells": [
  {
   "cell_type": "markdown",
   "metadata": {},
   "source": [
    "## Implementação de um Classificador Perceptron"
   ]
  },
  {
   "cell_type": "code",
   "execution_count": 2,
   "metadata": {},
   "outputs": [],
   "source": [
    "import numpy as np\n",
    "\n",
    "\n",
    "class Perceptron(object):\n",
    "    \"\"\"Perceptron classifier.\n",
    "\n",
    "    Parameters\n",
    "    ------------\n",
    "    eta : float\n",
    "      Learning rate (between 0.0 and 1.0)\n",
    "    n_iter : int\n",
    "      Passes over the training dataset.\n",
    "    random_state : int\n",
    "      Random number generator seed for random weight\n",
    "      initialization.\n",
    "\n",
    "    Attributes\n",
    "    -----------\n",
    "    w_ : 1d-array\n",
    "      Weights after fitting.\n",
    "    errors_ : list\n",
    "      Number of misclassifications (updates) in each epoch.\n",
    "\n",
    "    \"\"\"\n",
    "    def __init__(self, eta=0.01, n_iter=50, random_state=1):\n",
    "        self.eta = eta\n",
    "        self.n_iter = n_iter\n",
    "        self.random_state = random_state\n",
    "\n",
    "    def fit(self, X, y):\n",
    "        \"\"\"Fit training data.\n",
    "\n",
    "        Parameters\n",
    "        ----------\n",
    "        X : {array-like}, shape = [n_examples, n_features]\n",
    "          Training vectors, where n_examples is the number of examples and\n",
    "          n_features is the number of features.\n",
    "        y : array-like, shape = [n_examples]\n",
    "          Target values.\n",
    "\n",
    "        Returns\n",
    "        -------\n",
    "        self : object\n",
    "\n",
    "        \"\"\"\n",
    "        rgen = np.random.RandomState(self.random_state)\n",
    "        self.w_ = rgen.normal(loc=0.0, scale=0.01, size=1 + X.shape[1])\n",
    "        self.errors_ = []\n",
    "\n",
    "        for _ in range(self.n_iter):\n",
    "            errors = 0\n",
    "            for xi, target in zip(X, y):\n",
    "                update = self.eta * (target - self.predict(xi))\n",
    "                self.w_[1:] += update * xi\n",
    "                self.w_[0] += update\n",
    "                errors += int(update != 0.0)\n",
    "            self.errors_.append(errors)\n",
    "        return self\n",
    "\n",
    "    def net_input(self, X):\n",
    "        \"\"\"Calculate net input\"\"\"\n",
    "        return np.dot(X, self.w_[1:]) + self.w_[0]\n",
    "\n",
    "    def predict(self, X):\n",
    "        \"\"\"Return class label after unit step\"\"\"\n",
    "        return np.where(self.net_input(X) >= 0.0, 1, -1)"
   ]
  },
  {
   "cell_type": "markdown",
   "metadata": {},
   "source": [
    "## Testando o classificador Perceptron"
   ]
  },
  {
   "cell_type": "code",
   "execution_count": 3,
   "metadata": {
    "scrolled": true
   },
   "outputs": [
    {
     "name": "stdout",
     "output_type": "stream",
     "text": [
      "Resultado da Predição [-1  1 -1]\n"
     ]
    }
   ],
   "source": [
    "\"\"\"Dados de Treinamento \"\"\"\n",
    "X = np.array([[1,1],[2,2],[3,3]])\n",
    "y = np.array([1,1,-1])\n",
    "\n",
    "\"\"\"Criando objeto Perceptron\"\"\"\n",
    "ppn = Perceptron(eta=0.1, n_iter=100)\n",
    "\n",
    "\"\"\"Treinando o modelo\"\"\"\n",
    "ppn.fit(X, y)\n",
    "\n",
    "\"\"\"Testando modelo treinado \"\"\"\n",
    "X_newdata = np.array([[4,4],[2,2],[3,3]])\n",
    "print(\"Resultado da Predição\",ppn.predict(X_newdata));"
   ]
  },
  {
   "cell_type": "markdown",
   "metadata": {},
   "source": [
    "## Questao 1 - Implemente uma função para calcular a acurácia do modelo"
   ]
  },
  {
   "cell_type": "code",
   "execution_count": 103,
   "metadata": {},
   "outputs": [
    {
     "ename": "SyntaxError",
     "evalue": "invalid syntax (<ipython-input-103-ee66698e9950>, line 17)",
     "output_type": "error",
     "traceback": [
      "\u001b[1;36m  File \u001b[1;32m\"<ipython-input-103-ee66698e9950>\"\u001b[1;36m, line \u001b[1;32m17\u001b[0m\n\u001b[1;33m    tp = #TruePositives\u001b[0m\n\u001b[1;37m         ^\u001b[0m\n\u001b[1;31mSyntaxError\u001b[0m\u001b[1;31m:\u001b[0m invalid syntax\n"
     ]
    }
   ],
   "source": [
    "def accuracy(x, y, confusion = False):\n",
    "    pred = np.array(x)\n",
    "    real = np.array(y)\n",
    "    if(pred.size != real.size):\n",
    "        print('different sizes')\n",
    "        return   \n",
    "    rClasses = {i:j for i,j in zip(np.unique(real),range(np.unique(real).size))} # realClasses\n",
    "    \n",
    "    pClasses = {i:j for i,j in zip(np.unique(pred),range(np.unique(pred).size))} # predictedClasses\n",
    "    if(pClasses.keys()!=rClasses.keys()):\n",
    "        print('classes diferentes')\n",
    "        return\n",
    "    if(confusion):\n",
    "        ConfMatrix = np.zeros([np.unique(real).size,np.unique(real).size], int)\n",
    "        for i,j in zip(real,pred):\n",
    "            ConfMatrix[rClasses[i],pClasses[j]] += 1\n",
    "#         tp = #TruePositives\n",
    "#         tn = #TrueNegatives\n",
    "#         fp = #FalsePositives\n",
    "#         fn = #FalseNegaives\n",
    "        acc = round(float(ConfMatrix.diagonal().sum()/ConfMatrix.sum()),2) #Valores preditos corretamente sobre todos os valores\n",
    "        return ConfMatrix , acc\n",
    "    else:\n",
    "        acc = 0\n",
    "        for i,j in zip(real,pred):\n",
    "            acc += 1 if(i==j) else 0\n",
    "        return round(float(acc/real.size),2)\n",
    "    \n",
    "    "
   ]
  },
  {
   "cell_type": "code",
   "execution_count": 98,
   "metadata": {},
   "outputs": [
    {
     "name": "stdout",
     "output_type": "stream",
     "text": [
      "pred =  [1 3 1 1 2 0 0]\n",
      "real =  [0 3 1 2 0 3 1]\n"
     ]
    },
    {
     "data": {
      "text/plain": [
       "array([[0, 1, 1, 0],\n",
       "       [1, 1, 0, 0],\n",
       "       [0, 1, 0, 0],\n",
       "       [1, 0, 0, 1]])"
      ]
     },
     "execution_count": 98,
     "metadata": {},
     "output_type": "execute_result"
    }
   ],
   "source": [
    "a = np.array([1,3,1,1,2,0,0])\n",
    "b = np.array([0,3,1,2,0,3,1])\n",
    "teste = accuracy(a, b, confusion = True)\n",
    "teste"
   ]
  },
  {
   "cell_type": "code",
   "execution_count": 102,
   "metadata": {},
   "outputs": [
    {
     "data": {
      "text/plain": [
       "2"
      ]
     },
     "execution_count": 102,
     "metadata": {},
     "output_type": "execute_result"
    }
   ],
   "source": [
    "teste.diagonal().sum()"
   ]
  },
  {
   "cell_type": "code",
   "execution_count": 74,
   "metadata": {},
   "outputs": [
    {
     "data": {
      "text/plain": [
       "array([[0, 0],\n",
       "       [0, 0]])"
      ]
     },
     "execution_count": 74,
     "metadata": {},
     "output_type": "execute_result"
    }
   ],
   "source": [
    "a = np.array([1,1,1,1,0,0,0])\n",
    "b = np.array([0,1,1,1,0,0,1])\n",
    "pred = np.array([a])\n",
    "real = np.array([b])\n",
    "classes = {i:0 for i in np.unique(a)}\n",
    "pred = {i:0 for i in np.unique(b)}\n",
    "ConfMatrix = np.zeros([np.unique(real).size,np.unique(real).size], int)\n",
    "for i,j in zip(a,b):\n",
    "    classes[i] += 1\n",
    "    pred[j] += 1\n",
    "ConfMatrix"
   ]
  },
  {
   "cell_type": "code",
   "execution_count": 71,
   "metadata": {},
   "outputs": [
    {
     "name": "stdout",
     "output_type": "stream",
     "text": [
      "0\n",
      "1\n"
     ]
    }
   ],
   "source": [
    "for i in range(np.unique(a).size):\n",
    "    print(i)"
   ]
  },
  {
   "cell_type": "code",
   "execution_count": 45,
   "metadata": {},
   "outputs": [
    {
     "data": {
      "text/plain": [
       "3"
      ]
     },
     "execution_count": 45,
     "metadata": {},
     "output_type": "execute_result"
    }
   ],
   "source": [
    "teste = np.array([range(3)])\n",
    "teste.size"
   ]
  },
  {
   "cell_type": "code",
   "execution_count": 55,
   "metadata": {},
   "outputs": [
    {
     "data": {
      "text/plain": [
       "2"
      ]
     },
     "execution_count": 55,
     "metadata": {},
     "output_type": "execute_result"
    }
   ],
   "source": [
    "np.unique(teste).size"
   ]
  },
  {
   "cell_type": "code",
   "execution_count": 56,
   "metadata": {},
   "outputs": [
    {
     "data": {
      "text/plain": [
       "{0: 0, 1: 1}"
      ]
     },
     "execution_count": 56,
     "metadata": {},
     "output_type": "execute_result"
    }
   ],
   "source": [
    "teste = np.array(a)\n",
    "len(np.unique(teste))\n",
    "testao = {i:j for i,j in zip(np.unique(a),range(np.unique(a).size))}\n",
    "testao"
   ]
  },
  {
   "cell_type": "code",
   "execution_count": 37,
   "metadata": {},
   "outputs": [
    {
     "name": "stdout",
     "output_type": "stream",
     "text": [
      "oi\n"
     ]
    }
   ],
   "source": [
    "if(pred.keys()==classes.keys()):\n",
    "    print('oi')"
   ]
  },
  {
   "cell_type": "code",
   "execution_count": 38,
   "metadata": {},
   "outputs": [
    {
     "name": "stdout",
     "output_type": "stream",
     "text": [
      "0\n",
      "0\n"
     ]
    }
   ],
   "source": [
    "for i,j in zip(pred.values() ,classes.values()):\n",
    "    print(i-j)"
   ]
  },
  {
   "cell_type": "markdown",
   "metadata": {},
   "source": [
    "## Questao 2 - Implemente um método de validação cruzada para testar "
   ]
  },
  {
   "cell_type": "code",
   "execution_count": null,
   "metadata": {},
   "outputs": [],
   "source": []
  },
  {
   "cell_type": "markdown",
   "metadata": {},
   "source": [
    "## Teste o classificador usando um conjunto de dados linearmente separável e outro não linearmente separável\n",
    "### Sugestão: crie datasets sintéticos com apenas dois atributos para voce poder visualizar a separação das classes"
   ]
  },
  {
   "cell_type": "code",
   "execution_count": null,
   "metadata": {},
   "outputs": [],
   "source": []
  },
  {
   "cell_type": "markdown",
   "metadata": {},
   "source": [
    "## Questao 3 - Treine um classificador perceptron para os dados de seu estudo de caso"
   ]
  },
  {
   "cell_type": "code",
   "execution_count": null,
   "metadata": {},
   "outputs": [],
   "source": []
  },
  {
   "cell_type": "code",
   "execution_count": null,
   "metadata": {},
   "outputs": [],
   "source": []
  },
  {
   "cell_type": "code",
   "execution_count": 21,
   "metadata": {},
   "outputs": [],
   "source": [
    "import numpy as np\n",
    "import pandas as pd\n",
    "import seaborn as sns\n",
    "import matplotlib.pyplot as plt\n",
    "\n",
    "%matplotlib inline"
   ]
  },
  {
   "cell_type": "code",
   "execution_count": 51,
   "metadata": {},
   "outputs": [],
   "source": [
    "from sklearn.preprocessing import LabelEncoder"
   ]
  },
  {
   "cell_type": "code",
   "execution_count": 62,
   "metadata": {},
   "outputs": [],
   "source": [
    "le = LabelEncoder()"
   ]
  }
 ],
 "metadata": {
  "kernelspec": {
   "display_name": "Python 3",
   "language": "python",
   "name": "python3"
  },
  "language_info": {
   "codemirror_mode": {
    "name": "ipython",
    "version": 3
   },
   "file_extension": ".py",
   "mimetype": "text/x-python",
   "name": "python",
   "nbconvert_exporter": "python",
   "pygments_lexer": "ipython3",
   "version": "3.8.1"
  }
 },
 "nbformat": 4,
 "nbformat_minor": 4
}
